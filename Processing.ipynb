{
 "cells": [
  {
   "cell_type": "markdown",
   "id": "e4b30346",
   "metadata": {},
   "source": [
    "# LIBRARIES"
   ]
  },
  {
   "cell_type": "code",
   "execution_count": 52,
   "id": "33c56bfc",
   "metadata": {},
   "outputs": [],
   "source": [
    "import pandas as pd\n",
    "import matplotlib.pyplot as plt\n",
    "import csv\n",
    "from bs4 import BeautifulSoup # For handling the HTML in the dataset\n",
    "import re"
   ]
  },
  {
   "cell_type": "markdown",
   "id": "e36f5f38",
   "metadata": {},
   "source": [
    "# ABOUT THE DATASET"
   ]
  },
  {
   "cell_type": "markdown",
   "id": "9843edf7",
   "metadata": {},
   "source": [
    "## Import the dataset"
   ]
  },
  {
   "cell_type": "code",
   "execution_count": null,
   "id": "6d15e894",
   "metadata": {},
   "outputs": [
    {
     "name": "stderr",
     "output_type": "stream",
     "text": [
      "<>:17: SyntaxWarning: invalid escape sequence '\\s'\n",
      "<>:17: SyntaxWarning: invalid escape sequence '\\s'\n",
      "C:\\Users\\ASUS\\AppData\\Local\\Temp\\ipykernel_36556\\3180338131.py:17: SyntaxWarning: invalid escape sequence '\\s'\n",
      "  \"\"\"\n"
     ]
    },
    {
     "name": "stdout",
     "output_type": "stream",
     "text": [
      "First 5 Rows After Cleaning:\n",
      "                                           job_title    job_id  \\\n",
      "0                              Performance Marketing  35BB6CB4   \n",
      "1                   Organization Development Manager  35BB6E66   \n",
      "2                  Thiết kế đồ họa- Graphic Designer  35BB6CF1   \n",
      "3  [HCM-Phú Nhuận] Chuyên viên kinh doanh mảng ph...  35BB6E1A   \n",
      "4                     Nhân Viên Kinh Doanh Phân Phối  35BB6CBF   \n",
      "\n",
      "                     company_title                    salary  \\\n",
      "0  Công ty Cổ phần Thời Trang YODY  Lương: 15 Tr - 25 Tr VND   \n",
      "1  Công ty Cổ phần Thời Trang YODY  Lương: 30 Tr - 40 Tr VND   \n",
      "2          Công Ty TNHH TM AN SINH  Lương: 12 Tr - 20 Tr VND   \n",
      "3                          Bảo mật  Lương: 10 Tr - 15 Tr VND   \n",
      "4          Công Ty TNHH TM AN SINH         Lương: Cạnh tranh   \n",
      "\n",
      "               location                        outstanding_welfare  \\\n",
      "0  Hà Nội | Hồ Chí Minh         Laptop | Chế độ bảo hiểm | Du Lịch   \n",
      "1    Hải Dương | Hà Nội         Laptop | Chế độ bảo hiểm | Du Lịch   \n",
      "2                Hà Nội  Chế độ bảo hiểm | Du Lịch | Chế độ thưởng   \n",
      "3           Hồ Chí Minh         Laptop | Chế độ bảo hiểm | Du Lịch   \n",
      "4                Hà Nội  Chế độ bảo hiểm | Phụ cấp | Chế độ thưởng   \n",
      "\n",
      "  announcement_date                                           category  \\\n",
      "0        22-02-2023             Tiếp thị / Marketing | Bán lẻ / Bán sỉ   \n",
      "1        22-02-2023                                            Nhân sự   \n",
      "2        22-02-2023  Quảng cáo / Đối ngoại / Truyền Thông | Mỹ thuậ...   \n",
      "3        22-02-2023  Bán lẻ / Bán sỉ | Bán hàng / Kinh doanh | Hàng...   \n",
      "4        22-02-2023  Bán hàng / Kinh doanh | Tiếp thị / Marketing |...   \n",
      "\n",
      "               position         exp                   order expiration_date  \\\n",
      "0  Nhân viên chính thức  Trên 1 Năm               Nhân viên      31/03/2023   \n",
      "1  Nhân viên chính thức  Trên 3 Năm  Trưởng nhóm / Giám sát      31/03/2023   \n",
      "2  Nhân viên chính thức  Trên 2 Năm               Nhân viên       10/3/2023   \n",
      "3  Nhân viên chính thức   2 - 4 Năm               Nhân viên      13/03/2023   \n",
      "4  Nhân viên chính thức  Trên 1 Năm               Nhân viên       10/3/2023   \n",
      "\n",
      "                                    detailed_welfare  \\\n",
      "0  Laptop | Chế độ bảo hiểm | Du Lịch | Phụ cấp |...   \n",
      "1  Laptop | Chế độ bảo hiểm | Du Lịch | Phụ cấp |...   \n",
      "2  Chế độ bảo hiểm | Du Lịch | Chế độ thưởng | Đà...   \n",
      "3  Laptop | Chế độ bảo hiểm | Du Lịch | Chế độ th...   \n",
      "4  Chế độ bảo hiểm | Phụ cấp | Chế độ thưởng | Ch...   \n",
      "\n",
      "                                     job_description  \\\n",
      "0  Lập kế hoạch và triển khai hoạt động marketing...   \n",
      "1  Nghiên cứu các mô hình tổ chức hiệu quả phù hợ...   \n",
      "2  Sáng tạo và triển khai mẫu thiết kế, hình ảnh ...   \n",
      "3  Đề xuất kế hoạch bán hàng, kế hoạch xúc tiến b...   \n",
      "4  Triển khai kế hoạch kinh doanh và giải pháp bá...   \n",
      "\n",
      "                                    job_requirements  \\\n",
      "0  Tốt nghiệp Cao đẳng, Đại học, tuổi từ 23-27 – ...   \n",
      "1  Nam/Nữ từ 25-35 tuổi - Cần làm việc tại văn ph...   \n",
      "2  Tốt nghiệp chuyên ngành thiết kế đồ họa- thiết...   \n",
      "3  Ít nhất 02 năm kinh nghiệm trong lĩnh vực Kinh...   \n",
      "4  Giới tính: Nam - Thích kiếm tiền và có tố chất...   \n",
      "\n",
      "                                            job_tags  \n",
      "0                                                NaN  \n",
      "1   Purchasing |  Nhân viên mua hàng  Staff |  As...  \n",
      "2   Họa viên |  UI Designer |  Ux Designer |  Gra...  \n",
      "3   Sales Executive |  Giám sát kinh doanh |  Nhâ...  \n",
      "4   Đại diện kinh doanh |  Nhân viên phòng kinh d...  \n"
     ]
    }
   ],
   "source": [
    "# Function to remove HTML tags\n",
    "def clean_html(html_text):\n",
    "    if pd.isna(html_text):  # Handle NaN values\n",
    "        return html_text\n",
    "    soup = BeautifulSoup(html_text, 'html.parser')\n",
    "    return soup.get_text(separator=' ', strip=True)\n",
    "\n",
    "# Function to remove unwanted phrases\n",
    "def clean_text(text):\n",
    "    if pd.isna(text):  # Handle NaN values\n",
    "        return text\n",
    "    # List of phrases to remove\n",
    "    phrases = [\n",
    "        r'Mô tả Công việc\\s*[-:]*\\s*',  # Matches \"Mô tả Công việc\", \"Mô tả Công việc -\", etc.\n",
    "        r'Yêu Cầu Công Việc\\s*[-:–]*\\s*',  # Matches \"Yêu Cầu Công Việc\", \"Yêu Cầu Công Việc –\", etc.\n",
    "        r'Yêu cầu\\s*[-:–]*\\s*',  # Matches \"Yêu cầu\", \"Yêu cầu:\", \"Yêu cầu –\", etc.\n",
    "        \"\"\"\n",
    "        r'Quyền lợi\\s*[-:]*\\s*',  # Matches \"Quyền lợi\", \"Quyền lợi:\", etc.\n",
    "        r'Thông tin khác\\s*[-:]*\\s*',  # Matches \"Thông tin khác\", etc.\n",
    "        r'Thời gian, địa điểm làm việc\\s*[-:]*\\s*',  # Matches \"Thời gian, địa điểm làm việc\", etc.\n",
    "        r'Yêu cầu\\s*[-:]*\\s*',  # Matches \"Yêu cầu\", \"Yêu cầu:\", etc.\n",
    "        r'Địa điểm, thời gian làm việc\\s*[-:]*\\s*',  # Matches \"Địa điểm, thời gian làm việc\", etc. \n",
    "        \"\"\" # ALL OF THESE ARE IN THE OTHER INFO SO WE STILL SOMEWHAT NEED THE TAGS (Sadge)\n",
    "    ]\n",
    "    # Combine phrases into a single regex pattern\n",
    "    pattern = '|'.join(phrases)\n",
    "    # Remove phrases\n",
    "    cleaned_text = re.sub(pattern, '', text, flags=re.IGNORECASE)\n",
    "    # Remove bullet point icon (•) and surrounding spaces\n",
    "    cleaned_text = re.sub(r'\\s*•\\s*', ' ', cleaned_text)\n",
    "    # Remove extra whitespace and normalize\n",
    "    cleaned_text = ' '.join(cleaned_text.split())\n",
    "    return cleaned_text\n",
    "\n",
    "# Read the CSV file\n",
    "try:\n",
    "    df = pd.read_csv('Data/vietnamese-job-posting.csv', \n",
    "                     encoding='utf-8', \n",
    "                     quoting=csv.QUOTE_ALL, \n",
    "                     on_bad_lines='skip')\n",
    "except UnicodeDecodeError:\n",
    "    print(\"Encoding error. Trying with 'latin1' encoding...\")\n",
    "    df = pd.read_csv('Data/vietnamese-job-posting.csv', \n",
    "                     encoding='latin1', \n",
    "                     quoting=csv.QUOTE_ALL, \n",
    "                     on_bad_lines='skip')\n",
    "except Exception as e:\n",
    "    print(f\"An error occurred: {e}\")\n",
    "    exit()\n",
    "\n",
    "# Apply HTML cleaning to relevant columns\n",
    "columns_to_clean = ['job_description', 'job_requirements', 'other_info']\n",
    "for column in columns_to_clean:\n",
    "    df[column] = df[column].apply(clean_html)\n",
    "\n",
    "# Apply text cleaning to remove unwanted phrases\n",
    "for column in columns_to_clean:\n",
    "    df[column] = df[column].apply(clean_text)\n",
    "\n",
    "# Dropping unecessary/complex info (Other info would require NLP manipulation to resolve (ON HOLD))\n",
    "columns_to_drop = ['company_video_url', 'company_url', 'job_url', 'other_info']\n",
    "for column in columns_to_drop:\n",
    "    df = df.drop(column, axis=1) \n",
    "    \n",
    "# Display the first few rows to verify\n",
    "print(\"First 5 Rows After Cleaning:\")\n",
    "print(df.head())"
   ]
  },
  {
   "cell_type": "code",
   "execution_count": 54,
   "id": "8f602bf9",
   "metadata": {},
   "outputs": [
    {
     "name": "stdout",
     "output_type": "stream",
     "text": [
      "\n",
      "DataFrame Info:\n",
      "<class 'pandas.core.frame.DataFrame'>\n",
      "RangeIndex: 2056 entries, 0 to 2055\n",
      "Data columns (total 16 columns):\n",
      " #   Column               Non-Null Count  Dtype \n",
      "---  ------               --------------  ----- \n",
      " 0   job_title            2056 non-null   object\n",
      " 1   job_id               2056 non-null   object\n",
      " 2   company_title        2056 non-null   object\n",
      " 3   salary               2056 non-null   object\n",
      " 4   location             2056 non-null   object\n",
      " 5   outstanding_welfare  1991 non-null   object\n",
      " 6   announcement_date    2056 non-null   object\n",
      " 7   category             1945 non-null   object\n",
      " 8   position             1945 non-null   object\n",
      " 9   exp                  1945 non-null   object\n",
      " 10  order                1945 non-null   object\n",
      " 11  expiration_date      1697 non-null   object\n",
      " 12  detailed_welfare     1896 non-null   object\n",
      " 13  job_description      2038 non-null   object\n",
      " 14  job_requirements     2038 non-null   object\n",
      " 15  job_tags             1554 non-null   object\n",
      "dtypes: object(16)\n",
      "memory usage: 257.1+ KB\n",
      "None\n"
     ]
    }
   ],
   "source": [
    "# Save the cleaned DataFrame to a new CSV file\n",
    "df.to_csv('Data/cleaned_vietnamese_job_posting.csv', index=False, encoding='utf-8')\n",
    "\n",
    "# Display basic info about the Dataset\n",
    "print(\"\\nDataFrame Info:\")\n",
    "print(df.info())"
   ]
  },
  {
   "cell_type": "code",
   "execution_count": 55,
   "id": "caaaa6ba",
   "metadata": {},
   "outputs": [
    {
     "name": "stdout",
     "output_type": "stream",
     "text": [
      "job_title                0\n",
      "job_id                   0\n",
      "company_title            0\n",
      "salary                   0\n",
      "location                 0\n",
      "outstanding_welfare     65\n",
      "announcement_date        0\n",
      "category               111\n",
      "position               111\n",
      "exp                    111\n",
      "order                  111\n",
      "expiration_date        359\n",
      "detailed_welfare       160\n",
      "job_description         18\n",
      "job_requirements        18\n",
      "job_tags               502\n",
      "dtype: int64\n",
      "job_title              0\n",
      "job_id                 0\n",
      "company_title          0\n",
      "salary                 0\n",
      "location               0\n",
      "outstanding_welfare    0\n",
      "announcement_date      0\n",
      "category               0\n",
      "position               0\n",
      "exp                    0\n",
      "order                  0\n",
      "expiration_date        0\n",
      "detailed_welfare       0\n",
      "job_description        0\n",
      "job_requirements       0\n",
      "job_tags               0\n",
      "dtype: int64\n"
     ]
    }
   ],
   "source": [
    "# Checking if there're missing data\n",
    "print(df.isnull().sum())\n",
    "\n",
    "# Drop missing rows (the data is too complicated to fill n without extensive research (ON HOLD))\n",
    "df = df.dropna()\n",
    "\n",
    "# Removing duplicates (if any at all, unlikely in a dataset as chaotic as this)\n",
    "df.drop_duplicates(inplace=True)\n",
    "\n",
    "print(df.isnull().sum())"
   ]
  },
  {
   "cell_type": "code",
   "execution_count": 56,
   "id": "2c4983ef",
   "metadata": {},
   "outputs": [
    {
     "name": "stdout",
     "output_type": "stream",
     "text": [
      "<class 'pandas.core.frame.DataFrame'>\n",
      "Index: 1289 entries, 1 to 2054\n",
      "Data columns (total 16 columns):\n",
      " #   Column               Non-Null Count  Dtype \n",
      "---  ------               --------------  ----- \n",
      " 0   job_title            1289 non-null   object\n",
      " 1   job_id               1289 non-null   object\n",
      " 2   company_title        1289 non-null   object\n",
      " 3   salary               1289 non-null   object\n",
      " 4   location             1289 non-null   object\n",
      " 5   outstanding_welfare  1289 non-null   object\n",
      " 6   announcement_date    1289 non-null   object\n",
      " 7   category             1289 non-null   object\n",
      " 8   position             1289 non-null   object\n",
      " 9   exp                  1289 non-null   object\n",
      " 10  order                1289 non-null   object\n",
      " 11  expiration_date      1289 non-null   object\n",
      " 12  detailed_welfare     1289 non-null   object\n",
      " 13  job_description      1289 non-null   object\n",
      " 14  job_requirements     1289 non-null   object\n",
      " 15  job_tags             1289 non-null   object\n",
      "dtypes: object(16)\n",
      "memory usage: 171.2+ KB\n"
     ]
    }
   ],
   "source": [
    "df.info()"
   ]
  }
 ],
 "metadata": {
  "kernelspec": {
   "display_name": "base",
   "language": "python",
   "name": "python3"
  },
  "language_info": {
   "codemirror_mode": {
    "name": "ipython",
    "version": 3
   },
   "file_extension": ".py",
   "mimetype": "text/x-python",
   "name": "python",
   "nbconvert_exporter": "python",
   "pygments_lexer": "ipython3",
   "version": "3.12.4"
  }
 },
 "nbformat": 4,
 "nbformat_minor": 5
}
